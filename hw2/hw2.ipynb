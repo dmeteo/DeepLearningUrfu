{
  "nbformat": 4,
  "nbformat_minor": 0,
  "metadata": {
    "colab": {
      "provenance": []
    },
    "kernelspec": {
      "name": "python3",
      "display_name": "Python 3"
    },
    "language_info": {
      "name": "python"
    }
  },
  "cells": [
    {
      "cell_type": "markdown",
      "source": [
        "# Домашнее задание к уроку 2: Линейная и логистическая регрессия"
      ],
      "metadata": {
        "id": "N9dkkNy6ryeG"
      }
    },
    {
      "cell_type": "code",
      "source": [
        "import torch\n",
        "import torch.nn as nn\n",
        "import torch.optim as optim\n",
        "import numpy as np\n",
        "from torch.utils.data import Dataset, DataLoader"
      ],
      "metadata": {
        "id": "S4q2nfU0EYTw"
      },
      "execution_count": 21,
      "outputs": []
    },
    {
      "cell_type": "code",
      "source": [
        "# Базовые Dataset классы\n",
        "\n",
        "class RegressionDataset(Dataset):\n",
        "    def __init__(self, X, y):\n",
        "        self.X = X\n",
        "        self.y = y\n",
        "    def __len__(self):\n",
        "        return len(self.X)\n",
        "    def __getitem__(self, idx):\n",
        "        return self.X[idx], self.y[idx]\n",
        "\n",
        "class ClassificationDataset(Dataset):\n",
        "    def __init__(self, X, y):\n",
        "        self.X = X\n",
        "        self.y = y\n",
        "    def __len__(self):\n",
        "        return len(self.X)\n",
        "    def __getitem__(self, idx):\n",
        "        return self.X[idx], self.y[idx]\n",
        "\n",
        "def make_regression_data(n=100, noise=0.1, source='random'):\n",
        "    if source == 'random':\n",
        "        X = torch.rand(n, 1)\n",
        "        w, b = 2.0, -1.0\n",
        "        y = w * X + b + noise * torch.randn(n, 1)\n",
        "        return X, y\n",
        "    elif source == 'diabetes':\n",
        "        from sklearn.datasets import load_diabetes\n",
        "        data = load_diabetes()\n",
        "        X = torch.tensor(data['data'], dtype=torch.float32)\n",
        "        y = torch.tensor(data['target'], dtype=torch.float32).unsqueeze(1)\n",
        "        return X, y\n",
        "    else:\n",
        "        raise ValueError('Unknown source')\n",
        "\n",
        "def make_classification_data(n=100, source='random'):\n",
        "    if source == 'random':\n",
        "        X = torch.rand(n, 2)\n",
        "        w = torch.tensor([2.0, -3.0])\n",
        "        b = 0.5\n",
        "        logits = X @ w + b\n",
        "        y = (logits > 0).float().unsqueeze(1)\n",
        "        return X, y\n",
        "    elif source == 'breast_cancer':\n",
        "        from sklearn.datasets import load_breast_cancer\n",
        "        data = load_breast_cancer()\n",
        "        X = torch.tensor(data['data'], dtype=torch.float32)\n",
        "        y = torch.tensor(data['target'], dtype=torch.float32).unsqueeze(1)\n",
        "        return X, y\n",
        "    else:\n",
        "        raise ValueError('Unknown source')\n"
      ],
      "metadata": {
        "id": "Bhk9t0CuEUQf"
      },
      "execution_count": 22,
      "outputs": []
    },
    {
      "cell_type": "markdown",
      "source": [
        "# Задание 1: Модификация существующих моделей (30 баллов)"
      ],
      "metadata": {
        "id": "-3n1p_eDr2Gr"
      }
    },
    {
      "cell_type": "markdown",
      "source": [
        "1.1 Расширение линейной регрессии (15 баллов)"
      ],
      "metadata": {
        "id": "kMjfQeBtsMTN"
      }
    },
    {
      "cell_type": "code",
      "source": [
        "# Модифицируйте существующую линейную регрессию:\n",
        "# - Добавьте L1 и L2 регуляризацию\n",
        "# - Добавьте early stopping"
      ],
      "metadata": {
        "id": "k0tvAtDTsR95"
      },
      "execution_count": 23,
      "outputs": []
    },
    {
      "cell_type": "code",
      "source": [
        "class LinearRegRegularized(nn.Module):\n",
        "    \"\"\"\n",
        "    Линейная регрессия с поддержкой L1/L2 регуляризации.\n",
        "    \"\"\"\n",
        "    def __init__(self, input_dim):\n",
        "        super().__init__()\n",
        "        self.lin = nn.Linear(input_dim, 1)\n",
        "\n",
        "    def forward(self, x):\n",
        "        return self.lin(x)\n",
        "\n",
        "def calc_regularization(model, alpha_l1=0.0, alpha_l2=0.0):\n",
        "    \"\"\"\n",
        "    Суммирует регуляризационные штрафы для всех параметров модели.\n",
        "    \"\"\"\n",
        "    l1_sum = sum(p.abs().sum() for p in model.parameters())\n",
        "    l2_sum = sum((p ** 2).sum() for p in model.parameters())\n",
        "    return alpha_l1 * l1_sum + alpha_l2 * l2_sum\n",
        "\n",
        "def train_reg_with_early_stopping(\n",
        "    model, train_loader, val_loader, alpha_l1=0.0, alpha_l2=0.0, lr=0.05, max_epochs=100, patience=7\n",
        "):\n",
        "    \"\"\"\n",
        "    Обучение линейной регрессии с регуляризацией и early stopping.\n",
        "    \"\"\"\n",
        "    optimizer = optim.Adam(model.parameters(), lr=lr)\n",
        "    criterion = nn.MSELoss()\n",
        "    best_val = float('inf')\n",
        "    best_model_state = None\n",
        "    wait = 0\n",
        "    train_losses, val_losses = [], []\n",
        "\n",
        "    for epoch in range(max_epochs):\n",
        "        model.train()\n",
        "        batch_losses = []\n",
        "        for xb, yb in train_loader:\n",
        "            optimizer.zero_grad()\n",
        "            out = model(xb)\n",
        "            loss = criterion(out, yb) + calc_regularization(model, alpha_l1, alpha_l2)\n",
        "            loss.backward()\n",
        "            optimizer.step()\n",
        "            batch_losses.append(loss.item())\n",
        "        train_loss = np.mean(batch_losses)\n",
        "\n",
        "        model.eval()\n",
        "        with torch.no_grad():\n",
        "            vloss = [criterion(model(xb), yb).item() for xb, yb in val_loader]\n",
        "            val_loss = np.mean(vloss)\n",
        "        train_losses.append(train_loss)\n",
        "        val_losses.append(val_loss)\n",
        "\n",
        "        if val_loss < best_val - 1e-4:\n",
        "            best_val = val_loss\n",
        "            best_model_state = model.state_dict()\n",
        "            wait = 0\n",
        "        else:\n",
        "            wait += 1\n",
        "            if wait >= patience:\n",
        "                break\n",
        "\n",
        "    if best_model_state is not None:\n",
        "        model.load_state_dict(best_model_state)\n",
        "    return model, train_losses, val_losses\n"
      ],
      "metadata": {
        "id": "WJlOKZyhEgYB"
      },
      "execution_count": 24,
      "outputs": []
    },
    {
      "cell_type": "code",
      "source": [
        "# Эксперимента с линейной регрессией\n",
        "\n",
        "X, y = make_regression_data(n=200)\n",
        "X_train, X_val = X[:150], X[150:]\n",
        "y_train, y_val = y[:150], y[150:]\n",
        "train_loader = DataLoader(RegressionDataset(X_train, y_train), batch_size=32, shuffle=True)\n",
        "val_loader = DataLoader(RegressionDataset(X_val, y_val), batch_size=32)\n",
        "\n",
        "model = LinearRegRegularized(1)\n",
        "model, train_hist, val_hist = train_reg_with_early_stopping(\n",
        "    model, train_loader, val_loader, alpha_l1=1e-4, alpha_l2=1e-4, lr=0.1\n",
        ")\n"
      ],
      "metadata": {
        "id": "bQm7cJSBE_4Q"
      },
      "execution_count": 25,
      "outputs": []
    },
    {
      "cell_type": "code",
      "source": [
        "import matplotlib.pyplot as plt\n",
        "\n",
        "plt.plot(train_hist, label=\"Train loss\")\n",
        "plt.plot(val_hist, label=\"Val loss\")\n",
        "plt.title(\"Loss Dynamics\")\n",
        "plt.legend()\n",
        "plt.show()"
      ],
      "metadata": {
        "colab": {
          "base_uri": "https://localhost:8080/",
          "height": 452
        },
        "id": "ujEYY3q9FE1k",
        "outputId": "a53190d8-3199-438f-ed93-df8162c1bc0a"
      },
      "execution_count": 26,
      "outputs": [
        {
          "output_type": "display_data",
          "data": {
            "text/plain": [
              "<Figure size 640x480 with 1 Axes>"
            ],
            "image/png": "[encoded data removed]"
          },
          "metadata": {}
        }
      ]
    },
    {
      "cell_type": "markdown",
      "source": [
        "1.2 Расширение логистической регрессии (15 баллов)"
      ],
      "metadata": {
        "id": "eIc_3PhWsXnV"
      }
    },
    {
      "cell_type": "code",
      "source": [
        "# Модифицируйте существующую логистическую регрессию:\n",
        "# - Добавьте поддержку многоклассовой классификации\n",
        "# - Реализуйте метрики: precision, recall, F1-score, ROC-AUC\n",
        "# - Добавьте визуализацию confusion matrix"
      ],
      "metadata": {
        "id": "NnNur9kEsbnl"
      },
      "execution_count": 27,
      "outputs": []
    },
    {
      "cell_type": "code",
      "source": [
        "from sklearn.metrics import precision_score, recall_score, f1_score, roc_auc_score, confusion_matrix\n",
        "\n",
        "class MultiLogisticRegression(nn.Module):\n",
        "    \"\"\"Логистическая регрессия для многоклассовой классификации\"\"\"\n",
        "    def __init__(self, input_dim, n_classes):\n",
        "        super().__init__()\n",
        "        self.fc = nn.Linear(input_dim, n_classes)\n",
        "    def forward(self, x):\n",
        "        return self.fc(x)\n",
        "\n",
        "def metrics_multiclass(y_true, y_pred_logits):\n",
        "    \"\"\"\n",
        "    Метрики precision, recall, f1, roc_auc\n",
        "    \"\"\"\n",
        "    y_true_np = y_true.cpu().numpy()\n",
        "    y_pred_np = y_pred_logits.argmax(dim=1).cpu().numpy()\n",
        "    result = {\n",
        "        'precision': precision_score(y_true_np, y_pred_np, average='macro', zero_division=0),\n",
        "        'recall': recall_score(y_true_np, y_pred_np, average='macro', zero_division=0),\n",
        "        'f1': f1_score(y_true_np, y_pred_np, average='macro', zero_division=0),\n",
        "    }\n",
        "    try:\n",
        "        y_score = torch.softmax(y_pred_logits, dim=1).cpu().numpy()\n",
        "        if y_score.shape[1] == 2:\n",
        "            result['roc_auc'] = roc_auc_score(y_true_np, y_score[:, 1])\n",
        "        else:\n",
        "            y_true_oh = np.eye(y_pred_logits.shape[1])[y_true_np]\n",
        "            result['roc_auc'] = roc_auc_score(y_true_oh, y_score, multi_class='ovr')\n",
        "    except Exception:\n",
        "        result['roc_auc'] = np.nan\n",
        "    return result\n",
        "\n",
        "\n",
        "def plot_confusion(y_true, y_pred, class_names=None):\n",
        "    \"\"\"Отрисовывает confusion matrix.\"\"\"\n",
        "    cm = confusion_matrix(y_true, y_pred)\n",
        "    plt.figure(figsize=(5,5))\n",
        "    plt.imshow(cm, cmap='Blues')\n",
        "    plt.colorbar()\n",
        "    tick_marks = np.arange(len(class_names)) if class_names else np.arange(np.max(y_true)+1)\n",
        "    plt.xticks(tick_marks, class_names if class_names else tick_marks)\n",
        "    plt.yticks(tick_marks, class_names if class_names else tick_marks)\n",
        "    plt.xlabel(\"Predicted\")\n",
        "    plt.ylabel(\"True\")\n",
        "    plt.title(\"Confusion Matrix\")\n",
        "    for i in range(len(tick_marks)):\n",
        "        for j in range(len(tick_marks)):\n",
        "            plt.text(j, i, cm[i, j], ha='center', va='center', color='red')\n",
        "    plt.show()\n"
      ],
      "metadata": {
        "id": "ern4thDQGmxi"
      },
      "execution_count": 28,
      "outputs": []
    },
    {
      "cell_type": "code",
      "source": [
        "# Модель логистической регресси с breast_cancer\n",
        "\n",
        "Xc, yc = make_classification_data(n=200, source=\"breast_cancer\")\n",
        "X_train, X_val = Xc[:150], Xc[150:]\n",
        "y_train, y_val = yc[:150], yc[150:]\n",
        "epochs = 50\n",
        "\n",
        "model = MultiLogisticRegression(Xc.shape[1], 2)\n",
        "opt = optim.Adam(model.parameters(), lr=0.05)\n",
        "criterion = nn.CrossEntropyLoss()\n",
        "for epoch in range(epochs):\n",
        "    model.train()\n",
        "    out = model(X_train)\n",
        "    loss = criterion(out, y_train.squeeze().long())\n",
        "    opt.zero_grad()\n",
        "    loss.backward()\n",
        "    opt.step()\n",
        "\n",
        "    model.eval()\n",
        "    with torch.no_grad():\n",
        "        val_logits = model(X_val)\n",
        "        scores = metrics_multiclass(y_val.squeeze(), val_logits)\n",
        "    if (epoch+1)%5 == 0 or epoch == epochs-1:\n",
        "        print(f\"Epoch {epoch+1}: loss={loss.item():.4f}, precision={scores['precision']:.3f}, recall={scores['recall']:.3f}, f1={scores['f1']:.3f}, roc_auc={scores['roc_auc']:.3f}\")\n",
        "\n",
        "\n",
        "model.eval()\n",
        "with torch.no_grad():\n",
        "    val_logits = model(X_val)\n",
        "    val_labels = val_logits.argmax(dim=1)\n",
        "    scores = metrics_multiclass(y_val.squeeze(), val_logits)\n",
        "    print(\"Validation scores:\", scores)\n",
        "    plot_confusion(y_val.squeeze().numpy(), val_labels.numpy(), [\"0\", \"1\"])\n"
      ],
      "metadata": {
        "colab": {
          "base_uri": "https://localhost:8080/",
          "height": 618
        },
        "id": "pSoWqJ0OGsld",
        "outputId": "217daab5-aaa3-4ee2-c197-cc9db2d47b9d"
      },
      "execution_count": 29,
      "outputs": [
        {
          "output_type": "stream",
          "name": "stdout",
          "text": [
            "Epoch 5: loss=57.6296, precision=0.153, recall=0.496, f1=0.234, roc_auc=0.732\n",
            "Epoch 10: loss=20.7062, precision=0.148, recall=0.473, f1=0.226, roc_auc=0.756\n",
            "Epoch 15: loss=23.4464, precision=0.341, recall=0.478, f1=0.243, roc_auc=0.807\n",
            "Epoch 20: loss=8.5227, precision=0.657, recall=0.512, f1=0.262, roc_auc=0.902\n",
            "Epoch 25: loss=7.1385, precision=0.839, recall=0.779, f1=0.799, roc_auc=0.828\n",
            "Epoch 30: loss=7.0899, precision=0.689, recall=0.661, f1=0.535, roc_auc=0.933\n",
            "Epoch 35: loss=4.6026, precision=0.785, recall=0.825, f1=0.794, roc_auc=0.930\n",
            "Epoch 40: loss=2.9567, precision=0.804, recall=0.846, f1=0.814, roc_auc=0.941\n",
            "Epoch 45: loss=2.5049, precision=0.768, recall=0.813, f1=0.744, roc_auc=0.956\n",
            "Epoch 50: loss=2.2546, precision=0.852, recall=0.880, f1=0.863, roc_auc=0.954\n",
            "Validation scores: {'precision': 0.8521189591078067, 'recall': 0.8797914995990377, 'f1': 0.8629849770134841, 'roc_auc': np.float64(0.9538225073509756)}\n"
          ]
        },
        {
          "output_type": "display_data",
          "data": {
            "text/plain": [
              "<Figure size 500x500 with 2 Axes>"
            ],
            "image/png": "[encoded data removed]"
          },
          "metadata": {}
        }
      ]
    },
    {
      "cell_type": "markdown",
      "source": [
        "# Задание 2: Работа с датасетами (30 баллов)"
      ],
      "metadata": {
        "id": "4Q7bU4pzseQz"
      }
    },
    {
      "cell_type": "markdown",
      "source": [
        "2.1 Кастомный Dataset класс (15 баллов)"
      ],
      "metadata": {
        "id": "bDmZX3QWsvHI"
      }
    },
    {
      "cell_type": "code",
      "source": [
        "# Создайте кастомный класс датасета для работы с CSV файлами:\n",
        "# - Загрузка данных из файла\n",
        "# - Предобработка (нормализация, кодирование категорий)\n",
        "# - Поддержка различных форматов данных (категориальные, числовые, бинарные и т.д.)"
      ],
      "metadata": {
        "id": "IbvtWPkusxbQ"
      },
      "execution_count": 30,
      "outputs": []
    },
    {
      "cell_type": "code",
      "source": [
        "import pandas as pd\n",
        "from sklearn.preprocessing import StandardScaler, OneHotEncoder\n",
        "\n",
        "class CustomCSVDataset(Dataset):\n",
        "    \"\"\"\n",
        "    Кастомный датасет для работы с CSV\n",
        "    \"\"\"\n",
        "    def __init__(self, csv_path, target_col, categorical=None, binary=None):\n",
        "        self.data = pd.read_csv(csv_path)\n",
        "        self.target = torch.tensor(self.data[target_col].values, dtype=torch.float32)\n",
        "        features = self.data.drop(columns=[target_col])\n",
        "        cat = categorical or []\n",
        "        bin_ = binary or []\n",
        "        num = [c for c in features.columns if c not in cat+bin_]\n",
        "        tensors = []\n",
        "        if num:\n",
        "            scaler = StandardScaler()\n",
        "            tensors.append(torch.tensor(scaler.fit_transform(features[num]), dtype=torch.float32))\n",
        "        if bin_:\n",
        "            tensors.append(torch.tensor(features[bin_].astype(float).values, dtype=torch.float32))\n",
        "        if cat:\n",
        "            enc = OneHotEncoder(sparse=False)\n",
        "            tensors.append(torch.tensor(enc.fit_transform(features[cat]), dtype=torch.float32))\n",
        "        self.X = torch.cat(tensors, dim=1)\n",
        "    def __getitem__(self, idx):\n",
        "        return self.X[idx], self.target[idx]\n",
        "    def __len__(self):\n",
        "        return len(self.target)\n"
      ],
      "metadata": {
        "id": "uR5zk0An72Ca"
      },
      "execution_count": 31,
      "outputs": []
    },
    {
      "cell_type": "markdown",
      "source": [
        "2.2 Эксперименты с различными датасетами (15 баллов)"
      ],
      "metadata": {
        "id": "LKJK36T8s6ge"
      }
    },
    {
      "cell_type": "code",
      "source": [
        "# Найдите csv датасеты для регрессии и бинарной классификации и, применяя наработки из предыдущей части задания, обучите линейную и логистическую регрессию"
      ],
      "metadata": {
        "id": "IIOE7ArDs7sg"
      },
      "execution_count": 32,
      "outputs": []
    },
    {
      "cell_type": "code",
      "source": [
        "from sklearn.datasets import load_diabetes, load_breast_cancer\n",
        "\n",
        "# Diabetes для регрессии\n",
        "diab = load_diabetes()\n",
        "pd.DataFrame(np.c_[diab.data, diab.target],\n",
        "             columns=list(diab.feature_names)+[\"target\"]).to_csv(\"diabetes.csv\", index=False)\n",
        "\n",
        "# Breast_cancer для классификации\n",
        "bc = load_breast_cancer()\n",
        "pd.DataFrame(np.c_[bc.data, bc.target],\n",
        "             columns=list(bc.feature_names)+[\"target\"]).to_csv(\"breast_cancer.csv\", index=False)"
      ],
      "metadata": {
        "id": "Qwyd5Ggk8OXK"
      },
      "execution_count": 33,
      "outputs": []
    },
    {
      "cell_type": "code",
      "source": [
        "# Пример обучения регрессии по diabetes.csv\n",
        "reg_ds = CustomCSVDataset(\"diabetes.csv\", \"target\")\n",
        "loader = DataLoader(reg_ds, batch_size=32, shuffle=True)\n",
        "model = nn.Linear(reg_ds.X.shape[1], 1)\n",
        "optim_ = optim.SGD(model.parameters(), lr=0.01)\n",
        "crit = nn.MSELoss()\n",
        "for epoch in range(100):\n",
        "    for Xb, yb in loader:\n",
        "        optim_.zero_grad()\n",
        "        loss = crit(model(Xb), yb.unsqueeze(1))\n",
        "        loss.backward()\n",
        "        optim_.step()\n",
        "    if (epoch+1)%5 == 0 or epoch == epochs-1:\n",
        "      print(f\"[Diabetes] Epoch {epoch+1}: loss={loss.item():.4f}\")"
      ],
      "metadata": {
        "colab": {
          "base_uri": "https://localhost:8080/"
        },
        "id": "bkdsnd3T8Ziq",
        "outputId": "b0f27309-a55e-4aff-b893-6ea446846031"
      },
      "execution_count": 34,
      "outputs": [
        {
          "output_type": "stream",
          "name": "stdout",
          "text": [
            "[Diabetes] Epoch 5: loss=2929.5674\n",
            "[Diabetes] Epoch 10: loss=2222.2363\n",
            "[Diabetes] Epoch 15: loss=2801.7383\n",
            "[Diabetes] Epoch 20: loss=3047.9136\n",
            "[Diabetes] Epoch 25: loss=2840.0674\n",
            "[Diabetes] Epoch 30: loss=2917.7896\n",
            "[Diabetes] Epoch 35: loss=3196.3044\n",
            "[Diabetes] Epoch 40: loss=2833.6084\n",
            "[Diabetes] Epoch 45: loss=3305.7739\n",
            "[Diabetes] Epoch 50: loss=2333.9800\n",
            "[Diabetes] Epoch 55: loss=2732.4895\n",
            "[Diabetes] Epoch 60: loss=2322.8103\n",
            "[Diabetes] Epoch 65: loss=2071.0103\n",
            "[Diabetes] Epoch 70: loss=3021.8682\n",
            "[Diabetes] Epoch 75: loss=3951.5610\n",
            "[Diabetes] Epoch 80: loss=4565.5288\n",
            "[Diabetes] Epoch 85: loss=2536.9995\n",
            "[Diabetes] Epoch 90: loss=2503.9773\n",
            "[Diabetes] Epoch 95: loss=3174.7212\n",
            "[Diabetes] Epoch 100: loss=2614.7505\n"
          ]
        }
      ]
    },
    {
      "cell_type": "code",
      "source": [
        "# Пример обучения логистической регрессии на breast_cancer.csv\n",
        "clf_ds = CustomCSVDataset(\"breast_cancer.csv\", \"target\")\n",
        "loader = DataLoader(clf_ds, batch_size=32, shuffle=True)\n",
        "model = nn.Linear(clf_ds.X.shape[1], 1)\n",
        "optim_ = optim.Adam(model.parameters(), lr=0.01)\n",
        "crit = nn.BCEWithLogitsLoss()\n",
        "for epoch in range(100):\n",
        "    for Xb, yb in loader:\n",
        "        optim_.zero_grad()\n",
        "        logits = model(Xb).squeeze(1)\n",
        "        loss = crit(logits, yb)\n",
        "        loss.backward()\n",
        "        optim_.step()\n",
        "    if (epoch+1)%5 == 0 or epoch == epochs-1:\n",
        "      print(f\"[Cancer] Epoch {epoch+1}: loss={loss.item():.4f}\")\n"
      ],
      "metadata": {
        "colab": {
          "base_uri": "https://localhost:8080/"
        },
        "id": "J--0rlFI8r5g",
        "outputId": "134b5c7b-b8fe-4ecd-819c-5b559fb1ebac"
      },
      "execution_count": 35,
      "outputs": [
        {
          "output_type": "stream",
          "name": "stdout",
          "text": [
            "[Cancer] Epoch 5: loss=0.0731\n",
            "[Cancer] Epoch 10: loss=0.0255\n",
            "[Cancer] Epoch 15: loss=0.1020\n",
            "[Cancer] Epoch 20: loss=0.0640\n",
            "[Cancer] Epoch 25: loss=0.0551\n",
            "[Cancer] Epoch 30: loss=0.0551\n",
            "[Cancer] Epoch 35: loss=0.0422\n",
            "[Cancer] Epoch 40: loss=0.2491\n",
            "[Cancer] Epoch 45: loss=0.0682\n",
            "[Cancer] Epoch 50: loss=0.0846\n",
            "[Cancer] Epoch 55: loss=0.0304\n",
            "[Cancer] Epoch 60: loss=0.0141\n",
            "[Cancer] Epoch 65: loss=0.0507\n",
            "[Cancer] Epoch 70: loss=0.0283\n",
            "[Cancer] Epoch 75: loss=0.0126\n",
            "[Cancer] Epoch 80: loss=0.1217\n",
            "[Cancer] Epoch 85: loss=0.0126\n",
            "[Cancer] Epoch 90: loss=0.0262\n",
            "[Cancer] Epoch 95: loss=0.0654\n",
            "[Cancer] Epoch 100: loss=0.0331\n"
          ]
        }
      ]
    },
    {
      "cell_type": "markdown",
      "source": [
        "# Задание 3: Эксперименты и анализ (20 баллов)"
      ],
      "metadata": {
        "id": "uvPAw9uTtCEi"
      }
    },
    {
      "cell_type": "markdown",
      "source": [
        "3.1 Исследование гиперпараметров (10 баллов)"
      ],
      "metadata": {
        "id": "FQ-RQYOZtGZ2"
      }
    },
    {
      "cell_type": "code",
      "source": [
        "# Проведите эксперименты с различными:\n",
        "# - Скоростями обучения (learning rate)\n",
        "# - Размерами батчей\n",
        "# - Оптимизаторами (SGD, Adam, RMSprop)\n",
        "# Визуализируйте результаты в виде графиков или таблиц"
      ],
      "metadata": {
        "id": "S4_J9_DgtIho"
      },
      "execution_count": 36,
      "outputs": []
    },
    {
      "cell_type": "code",
      "source": [
        "from sklearn.model_selection import train_test_split\n",
        "\n",
        "dataset = CustomCSVDataset(\"breast_cancer.csv\", target_col=\"target\")\n",
        "X_all = dataset.X\n",
        "y_all = dataset.target\n",
        "\n",
        "# Train/val split\n",
        "X_train, X_val, y_train, y_val = train_test_split(\n",
        "    X_all, y_all, test_size=0.2, random_state=42, stratify=y_all\n",
        ")"
      ],
      "metadata": {
        "id": "NxA0zhw1-mz6"
      },
      "execution_count": 37,
      "outputs": []
    },
    {
      "cell_type": "code",
      "source": [
        "from torch.utils.data import TensorDataset, DataLoader\n",
        "\n",
        "def train_multiclass(\n",
        "    model_class, input_dim, n_classes, X_train, y_train, X_val, y_val,\n",
        "    optimizer_class, lr, batch_size, epochs=50, device='cpu', verbose=False\n",
        "):\n",
        "    model = model_class(input_dim, n_classes).to(device)\n",
        "    optimizer = optimizer_class(model.parameters(), lr=lr)\n",
        "    criterion = nn.CrossEntropyLoss()\n",
        "    train_ds = TensorDataset(X_train, y_train)\n",
        "    val_ds = TensorDataset(X_val, y_val)\n",
        "    train_loader = DataLoader(train_ds, batch_size=batch_size, shuffle=True)\n",
        "    val_loader = DataLoader(val_ds, batch_size=batch_size)\n",
        "    for epoch in range(epochs):\n",
        "        model.train()\n",
        "        for xb, yb in train_loader:\n",
        "            xb, yb = xb.to(device), yb.to(device).long()\n",
        "            out = model(xb)\n",
        "            loss = criterion(out, yb)\n",
        "            optimizer.zero_grad()\n",
        "            loss.backward()\n",
        "            optimizer.step()\n",
        "    # Оценка на val\n",
        "    model.eval()\n",
        "    with torch.no_grad():\n",
        "        val_logits = []\n",
        "        val_targets = []\n",
        "        for xb, yb in val_loader:\n",
        "            xb, yb = xb.to(device), yb.to(device).long()\n",
        "            out = model(xb)\n",
        "            val_logits.append(out.cpu())\n",
        "            val_targets.append(yb.cpu())\n",
        "        val_logits = torch.cat(val_logits)\n",
        "        val_targets = torch.cat(val_targets)\n",
        "        metrics = metrics_multiclass(val_targets, val_logits)\n",
        "        if verbose:\n",
        "            print(metrics)\n",
        "    return metrics, model, val_logits, val_targets\n",
        "\n",
        "# Перебор гиперпараметро\n",
        "device = 'cuda' if torch.cuda.is_available() else 'cpu'\n",
        "experiments = [\n",
        "    {\"lr\": 0.1, \"batch_size\": 32, \"optimizer\": optim.SGD},\n",
        "    {\"lr\": 0.01, \"batch_size\": 64, \"optimizer\": optim.Adam},\n",
        "    {\"lr\": 0.001, \"batch_size\": 16, \"optimizer\": optim.RMSprop},\n",
        "    {\"lr\": 0.05, \"batch_size\": 32, \"optimizer\": optim.Adam},\n",
        "]\n",
        "all_results = []\n",
        "for exp in experiments:\n",
        "    metrics, model, val_logits, val_targets = train_multiclass(\n",
        "        MultiLogisticRegression, X_train.shape[1], 2, X_train, y_train, X_val, y_val,\n",
        "        exp[\"optimizer\"], exp[\"lr\"], exp[\"batch_size\"], epochs=50, device=device\n",
        "    )\n",
        "    result = {**exp, **metrics}\n",
        "    all_results.append(result)\n",
        "df_results = pd.DataFrame(all_results)\n",
        "display(df_results)"
      ],
      "metadata": {
        "colab": {
          "base_uri": "https://localhost:8080/",
          "height": 175
        },
        "id": "bqQnxZpHpkJv",
        "outputId": "45b8a220-087c-4131-f976-6808ab7101c5"
      },
      "execution_count": 42,
      "outputs": [
        {
          "output_type": "display_data",
          "data": {
            "text/plain": [
              "      lr  batch_size                              optimizer  precision  \\\n",
              "0  0.100          32          <class 'torch.optim.sgd.SGD'>   0.958766   \n",
              "1  0.010          64        <class 'torch.optim.adam.Adam'>   0.981151   \n",
              "2  0.001          16  <class 'torch.optim.rmsprop.RMSprop'>   0.969702   \n",
              "3  0.050          32        <class 'torch.optim.adam.Adam'>   0.948309   \n",
              "\n",
              "     recall        f1   roc_auc  \n",
              "0  0.967262  0.962660  0.996032  \n",
              "1  0.981151  0.981151  0.995370  \n",
              "2  0.974206  0.971863  0.995701  \n",
              "3  0.960317  0.953534  0.994048  "
            ],
            "text/html": [
              "\n",
              "  <div id=\"df-deb346d4-aa1e-4117-8279-002d2a218f17\" class=\"colab-df-container\">\n",
              "    <div>\n",
              "<style scoped>\n",
              "    .dataframe tbody tr th:only-of-type {\n",
              "        vertical-align: middle;\n",
              "    }\n",
              "\n",
              "    .dataframe tbody tr th {\n",
              "        vertical-align: top;\n",
              "    }\n",
              "\n",
              "    .dataframe thead th {\n",
              "        text-align: right;\n",
              "    }\n",
              "</style>\n",
              "<table border=\"1\" class=\"dataframe\">\n",
              "  <thead>\n",
              "    <tr style=\"text-align: right;\">\n",
              "      <th></th>\n",
              "      <th>lr</th>\n",
              "      <th>batch_size</th>\n",
              "      <th>optimizer</th>\n",
              "      <th>precision</th>\n",
              "      <th>recall</th>\n",
              "      <th>f1</th>\n",
              "      <th>roc_auc</th>\n",
              "    </tr>\n",
              "  </thead>\n",
              "  <tbody>\n",
              "    <tr>\n",
              "      <th>0</th>\n",
              "      <td>0.100</td>\n",
              "      <td>32</td>\n",
              "      <td>&lt;class 'torch.optim.sgd.SGD'&gt;</td>\n",
              "      <td>0.958766</td>\n",
              "      <td>0.967262</td>\n",
              "      <td>0.962660</td>\n",
              "      <td>0.996032</td>\n",
              "    </tr>\n",
              "    <tr>\n",
              "      <th>1</th>\n",
              "      <td>0.010</td>\n",
              "      <td>64</td>\n",
              "      <td>&lt;class 'torch.optim.adam.Adam'&gt;</td>\n",
              "      <td>0.981151</td>\n",
              "      <td>0.981151</td>\n",
              "      <td>0.981151</td>\n",
              "      <td>0.995370</td>\n",
              "    </tr>\n",
              "    <tr>\n",
              "      <th>2</th>\n",
              "      <td>0.001</td>\n",
              "      <td>16</td>\n",
              "      <td>&lt;class 'torch.optim.rmsprop.RMSprop'&gt;</td>\n",
              "      <td>0.969702</td>\n",
              "      <td>0.974206</td>\n",
              "      <td>0.971863</td>\n",
              "      <td>0.995701</td>\n",
              "    </tr>\n",
              "    <tr>\n",
              "      <th>3</th>\n",
              "      <td>0.050</td>\n",
              "      <td>32</td>\n",
              "      <td>&lt;class 'torch.optim.adam.Adam'&gt;</td>\n",
              "      <td>0.948309</td>\n",
              "      <td>0.960317</td>\n",
              "      <td>0.953534</td>\n",
              "      <td>0.994048</td>\n",
              "    </tr>\n",
              "  </tbody>\n",
              "</table>\n",
              "</div>\n",
              "    <div class=\"colab-df-buttons\">\n",
              "\n",
              "  <div class=\"colab-df-container\">\n",
              "    <button class=\"colab-df-convert\" onclick=\"convertToInteractive('df-deb346d4-aa1e-4117-8279-002d2a218f17')\"\n",
              "            title=\"Convert this dataframe to an interactive table.\"\n",
              "            style=\"display:none;\">\n",
              "\n",
              "  <svg xmlns=\"http://www.w3.org/2000/svg\" height=\"24px\" viewBox=\"0 -960 960 960\">\n",
              "    <path d=\"M120-120v-720h720v720H120Zm60-500h600v-160H180v160Zm220 220h160v-160H400v160Zm0 220h160v-160H400v160ZM180-400h160v-160H180v160Zm440 0h160v-160H620v160ZM180-180h160v-160H180v160Zm440 0h160v-160H620v160Z\"/>\n",
              "  </svg>\n",
              "    </button>\n",
              "\n",
              "  <style>\n",
              "    .colab-df-container {\n",
              "      display:flex;\n",
              "      gap: 12px;\n",
              "    }\n",
              "\n",
              "    .colab-df-convert {\n",
              "      background-color: #E8F0FE;\n",
              "      border: none;\n",
              "      border-radius: 50%;\n",
              "      cursor: pointer;\n",
              "      display: none;\n",
              "      fill: #1967D2;\n",
              "      height: 32px;\n",
              "      padding: 0 0 0 0;\n",
              "      width: 32px;\n",
              "    }\n",
              "\n",
              "    .colab-df-convert:hover {\n",
              "      background-color: #E2EBFA;\n",
              "      box-shadow: 0px 1px 2px rgba(60, 64, 67, 0.3), 0px 1px 3px 1px rgba(60, 64, 67, 0.15);\n",
              "      fill: #174EA6;\n",
              "    }\n",
              "\n",
              "    .colab-df-buttons div {\n",
              "      margin-bottom: 4px;\n",
              "    }\n",
              "\n",
              "    [theme=dark] .colab-df-convert {\n",
              "      background-color: #3B4455;\n",
              "      fill: #D2E3FC;\n",
              "    }\n",
              "\n",
              "    [theme=dark] .colab-df-convert:hover {\n",
              "      background-color: #434B5C;\n",
              "      box-shadow: 0px 1px 3px 1px rgba(0, 0, 0, 0.15);\n",
              "      filter: drop-shadow(0px 1px 2px rgba(0, 0, 0, 0.3));\n",
              "      fill: #FFFFFF;\n",
              "    }\n",
              "  </style>\n",
              "\n",
              "    <script>\n",
              "      const buttonEl =\n",
              "        document.querySelector('#df-deb346d4-aa1e-4117-8279-002d2a218f17 button.colab-df-convert');\n",
              "      buttonEl.style.display =\n",
              "        google.colab.kernel.accessAllowed ? 'block' : 'none';\n",
              "\n",
              "      async function convertToInteractive(key) {\n",
              "        const element = document.querySelector('#df-deb346d4-aa1e-4117-8279-002d2a218f17');\n",
              "        const dataTable =\n",
              "          await google.colab.kernel.invokeFunction('convertToInteractive',\n",
              "                                                    [key], {});\n",
              "        if (!dataTable) return;\n",
              "\n",
              "        const docLinkHtml = 'Like what you see? Visit the ' +\n",
              "          '<a target=\"_blank\" href=https://colab.research.google.com/notebooks/data_table.ipynb>data table notebook</a>'\n",
              "          + ' to learn more about interactive tables.';\n",
              "        element.innerHTML = '';\n",
              "        dataTable['output_type'] = 'display_data';\n",
              "        await google.colab.output.renderOutput(dataTable, element);\n",
              "        const docLink = document.createElement('div');\n",
              "        docLink.innerHTML = docLinkHtml;\n",
              "        element.appendChild(docLink);\n",
              "      }\n",
              "    </script>\n",
              "  </div>\n",
              "\n",
              "\n",
              "    <div id=\"df-a904c268-b7f7-44f7-8505-10b9456c73a0\">\n",
              "      <button class=\"colab-df-quickchart\" onclick=\"quickchart('df-a904c268-b7f7-44f7-8505-10b9456c73a0')\"\n",
              "                title=\"Suggest charts\"\n",
              "                style=\"display:none;\">\n",
              "\n",
              "<svg xmlns=\"http://www.w3.org/2000/svg\" height=\"24px\"viewBox=\"0 0 24 24\"\n",
              "     width=\"24px\">\n",
              "    <g>\n",
              "        <path d=\"M19 3H5c-1.1 0-2 .9-2 2v14c0 1.1.9 2 2 2h14c1.1 0 2-.9 2-2V5c0-1.1-.9-2-2-2zM9 17H7v-7h2v7zm4 0h-2V7h2v10zm4 0h-2v-4h2v4z\"/>\n",
              "    </g>\n",
              "</svg>\n",
              "      </button>\n",
              "\n",
              "<style>\n",
              "  .colab-df-quickchart {\n",
              "      --bg-color: #E8F0FE;\n",
              "      --fill-color: #1967D2;\n",
              "      --hover-bg-color: #E2EBFA;\n",
              "      --hover-fill-color: #174EA6;\n",
              "      --disabled-fill-color: #AAA;\n",
              "      --disabled-bg-color: #DDD;\n",
              "  }\n",
              "\n",
              "  [theme=dark] .colab-df-quickchart {\n",
              "      --bg-color: #3B4455;\n",
              "      --fill-color: #D2E3FC;\n",
              "      --hover-bg-color: #434B5C;\n",
              "      --hover-fill-color: #FFFFFF;\n",
              "      --disabled-bg-color: #3B4455;\n",
              "      --disabled-fill-color: #666;\n",
              "  }\n",
              "\n",
              "  .colab-df-quickchart {\n",
              "    background-color: var(--bg-color);\n",
              "    border: none;\n",
              "    border-radius: 50%;\n",
              "    cursor: pointer;\n",
              "    display: none;\n",
              "    fill: var(--fill-color);\n",
              "    height: 32px;\n",
              "    padding: 0;\n",
              "    width: 32px;\n",
              "  }\n",
              "\n",
              "  .colab-df-quickchart:hover {\n",
              "    background-color: var(--hover-bg-color);\n",
              "    box-shadow: 0 1px 2px rgba(60, 64, 67, 0.3), 0 1px 3px 1px rgba(60, 64, 67, 0.15);\n",
              "    fill: var(--button-hover-fill-color);\n",
              "  }\n",
              "\n",
              "  .colab-df-quickchart-complete:disabled,\n",
              "  .colab-df-quickchart-complete:disabled:hover {\n",
              "    background-color: var(--disabled-bg-color);\n",
              "    fill: var(--disabled-fill-color);\n",
              "    box-shadow: none;\n",
              "  }\n",
              "\n",
              "  .colab-df-spinner {\n",
              "    border: 2px solid var(--fill-color);\n",
              "    border-color: transparent;\n",
              "    border-bottom-color: var(--fill-color);\n",
              "    animation:\n",
              "      spin 1s steps(1) infinite;\n",
              "  }\n",
              "\n",
              "  @keyframes spin {\n",
              "    0% {\n",
              "      border-color: transparent;\n",
              "      border-bottom-color: var(--fill-color);\n",
              "      border-left-color: var(--fill-color);\n",
              "    }\n",
              "    20% {\n",
              "      border-color: transparent;\n",
              "      border-left-color: var(--fill-color);\n",
              "      border-top-color: var(--fill-color);\n",
              "    }\n",
              "    30% {\n",
              "      border-color: transparent;\n",
              "      border-left-color: var(--fill-color);\n",
              "      border-top-color: var(--fill-color);\n",
              "      border-right-color: var(--fill-color);\n",
              "    }\n",
              "    40% {\n",
              "      border-color: transparent;\n",
              "      border-right-color: var(--fill-color);\n",
              "      border-top-color: var(--fill-color);\n",
              "    }\n",
              "    60% {\n",
              "      border-color: transparent;\n",
              "      border-right-color: var(--fill-color);\n",
              "    }\n",
              "    80% {\n",
              "      border-color: transparent;\n",
              "      border-right-color: var(--fill-color);\n",
              "      border-bottom-color: var(--fill-color);\n",
              "    }\n",
              "    90% {\n",
              "      border-color: transparent;\n",
              "      border-bottom-color: var(--fill-color);\n",
              "    }\n",
              "  }\n",
              "</style>\n",
              "\n",
              "      <script>\n",
              "        async function quickchart(key) {\n",
              "          const quickchartButtonEl =\n",
              "            document.querySelector('#' + key + ' button');\n",
              "          quickchartButtonEl.disabled = true;  // To prevent multiple clicks.\n",
              "          quickchartButtonEl.classList.add('colab-df-spinner');\n",
              "          try {\n",
              "            const charts = await google.colab.kernel.invokeFunction(\n",
              "                'suggestCharts', [key], {});\n",
              "          } catch (error) {\n",
              "            console.error('Error during call to suggestCharts:', error);\n",
              "          }\n",
              "          quickchartButtonEl.classList.remove('colab-df-spinner');\n",
              "          quickchartButtonEl.classList.add('colab-df-quickchart-complete');\n",
              "        }\n",
              "        (() => {\n",
              "          let quickchartButtonEl =\n",
              "            document.querySelector('#df-a904c268-b7f7-44f7-8505-10b9456c73a0 button');\n",
              "          quickchartButtonEl.style.display =\n",
              "            google.colab.kernel.accessAllowed ? 'block' : 'none';\n",
              "        })();\n",
              "      </script>\n",
              "    </div>\n",
              "    </div>\n",
              "  </div>\n"
            ],
            "application/vnd.google.colaboratory.intrinsic+json": {
              "type": "dataframe",
              "variable_name": "df_results",
              "summary": "{\n  \"name\": \"df_results\",\n  \"rows\": 4,\n  \"fields\": [\n    {\n      \"column\": \"lr\",\n      \"properties\": {\n        \"dtype\": \"number\",\n        \"std\": 0.04516912662427734,\n        \"min\": 0.001,\n        \"max\": 0.1,\n        \"num_unique_values\": 4,\n        \"samples\": [\n          0.01,\n          0.05,\n          0.1\n        ],\n        \"semantic_type\": \"\",\n        \"description\": \"\"\n      }\n    },\n    {\n      \"column\": \"batch_size\",\n      \"properties\": {\n        \"dtype\": \"number\",\n        \"std\": 20,\n        \"min\": 16,\n        \"max\": 64,\n        \"num_unique_values\": 3,\n        \"samples\": [\n          32,\n          64,\n          16\n        ],\n        \"semantic_type\": \"\",\n        \"description\": \"\"\n      }\n    },\n    {\n      \"column\": \"optimizer\",\n      \"properties\": {\n        \"dtype\": \"string\",\n        \"num_unique_values\": 3,\n        \"samples\": [\n          \"<class 'torch.optim.sgd.SGD'>\",\n          \"<class 'torch.optim.adam.Adam'>\",\n          \"<class 'torch.optim.rmsprop.RMSprop'>\"\n        ],\n        \"semantic_type\": \"\",\n        \"description\": \"\"\n      }\n    },\n    {\n      \"column\": \"precision\",\n      \"properties\": {\n        \"dtype\": \"number\",\n        \"std\": 0.014134196219999458,\n        \"min\": 0.9483091787439614,\n        \"max\": 0.9811507936507937,\n        \"num_unique_values\": 4,\n        \"samples\": [\n          0.9811507936507937,\n          0.9483091787439614,\n          0.9587662337662337\n        ],\n        \"semantic_type\": \"\",\n        \"description\": \"\"\n      }\n    },\n    {\n      \"column\": \"recall\",\n      \"properties\": {\n        \"dtype\": \"number\",\n        \"std\": 0.008965239227332038,\n        \"min\": 0.9603174603174602,\n        \"max\": 0.9811507936507937,\n        \"num_unique_values\": 4,\n        \"samples\": [\n          0.9811507936507937,\n          0.9603174603174602,\n          0.9672619047619048\n        ],\n        \"semantic_type\": \"\",\n        \"description\": \"\"\n      }\n    },\n    {\n      \"column\": \"f1\",\n      \"properties\": {\n        \"dtype\": \"number\",\n        \"std\": 0.011884278773464712,\n        \"min\": 0.9535338713621913,\n        \"max\": 0.9811507936507937,\n        \"num_unique_values\": 4,\n        \"samples\": [\n          0.9811507936507937,\n          0.9535338713621913,\n          0.9626596790042581\n        ],\n        \"semantic_type\": \"\",\n        \"description\": \"\"\n      }\n    },\n    {\n      \"column\": \"roc_auc\",\n      \"properties\": {\n        \"dtype\": \"number\",\n        \"std\": 0.0008696943252898278,\n        \"min\": 0.9940476190476191,\n        \"max\": 0.9960317460317459,\n        \"num_unique_values\": 4,\n        \"samples\": [\n          0.9953703703703703,\n          0.9940476190476191,\n          0.9960317460317459\n        ],\n        \"semantic_type\": \"\",\n        \"description\": \"\"\n      }\n    }\n  ]\n}"
            }
          },
          "metadata": {}
        }
      ]
    },
    {
      "cell_type": "markdown",
      "source": [
        "3.2 Feature Engineering (10 баллов)"
      ],
      "metadata": {
        "id": "FekgFjB_tJMw"
      }
    },
    {
      "cell_type": "code",
      "source": [
        "# Создайте новые признаки для улучшения модели:\n",
        "# - Полиномиальные признаки\n",
        "# - Взаимодействия между признаками\n",
        "# - Статистические признаки (среднее, дисперсия)\n",
        "# Сравните качество с базовой моделью"
      ],
      "metadata": {
        "id": "zmTCT17gtMkH"
      },
      "execution_count": null,
      "outputs": []
    },
    {
      "cell_type": "code",
      "source": [
        "from sklearn.preprocessing import PolynomialFeatures\n",
        "\n",
        "def featurize(X):\n",
        "    X_np = X.cpu().numpy()\n",
        "    poly = PolynomialFeatures(degree=2, include_bias=False)\n",
        "    X_poly = poly.fit_transform(X_np)\n",
        "    mean = X_np.mean(axis=1, keepdims=True)\n",
        "    std = X_np.std(axis=1, keepdims=True)\n",
        "    var = X_np.var(axis=1, keepdims=True)\n",
        "    return torch.tensor(np.concatenate([X_poly, mean, std, var], axis=1), dtype=torch.float32)\n",
        "\n",
        "X_train_fe = featurize(X_train)\n",
        "X_val_fe = featurize(X_val)\n",
        "\n",
        "# \\лучшие гиперпараметры из экспериментов\n",
        "best = df_results.sort_values(\"f1\", ascending=False).iloc[0]\n",
        "metrics_fe, model_fe, logits_fe, targets_fe = train_multiclass(\n",
        "    MultiLogisticRegression, X_train_fe.shape[1], 2, X_train_fe, y_train, X_val_fe, y_val,\n",
        "    best[\"optimizer\"], best[\"lr\"], int(best[\"batch_size\"]), epochs=100, device=device, verbose=True\n",
        ")\n",
        "print(\"Base F1:\", best[\"f1\"], \"| FE F1:\", metrics_fe[\"f1\"])\n",
        "if metrics_fe[\"f1\"] > best[\"f1\"]:\n",
        "    print(\"Feature engineering модель улучшена\")\n",
        "else:\n",
        "    print(\"Feature engineering не дал прироста.\")\n",
        "\n",
        "# Confusion matrix для FE модели\n",
        "plot_confusion(targets_fe.numpy(), logits_fe.argmax(dim=1).numpy(), class_names=[\"0\", \"1\"])\n"
      ],
      "metadata": {
        "colab": {
          "base_uri": "https://localhost:8080/",
          "height": 479
        },
        "id": "pvwQloaK_hGU",
        "outputId": "ee2befe1-170b-434d-a740-a55e07881e36"
      },
      "execution_count": 49,
      "outputs": [
        {
          "output_type": "stream",
          "name": "stdout",
          "text": [
            "{'precision': 0.9115942028985508, 'recall': 0.9226190476190477, 'f1': 0.9163609684519443, 'roc_auc': np.float64(0.9818121693121693)}\n",
            "Base F1: 0.9811507936507937 | FE F1: 0.9163609684519443\n",
            "Feature engineering не дал прироста.\n"
          ]
        },
        {
          "output_type": "display_data",
          "data": {
            "text/plain": [
              "<Figure size 500x500 with 2 Axes>"
            ],
            "image/png": "[encoded data removed]"
          },
          "metadata": {}
        }
      ]
    }
  ]
}