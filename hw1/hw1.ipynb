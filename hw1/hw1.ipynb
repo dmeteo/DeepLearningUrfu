{
  "cells": [
    {
      "cell_type": "markdown",
      "id": "08ebb40a",
      "metadata": {
        "id": "08ebb40a"
      },
      "source": [
        "# Домашнее задание к уроку 1: Основы PyTorch"
      ]
    },
    {
      "cell_type": "markdown",
      "id": "d1bcc939",
      "metadata": {
        "id": "d1bcc939"
      },
      "source": [
        "# Задание 1: Создание и манипуляции с тензорами (25 баллов)"
      ]
    },
    {
      "cell_type": "code",
      "execution_count": null,
      "id": "27a26c71",
      "metadata": {
        "id": "27a26c71"
      },
      "outputs": [],
      "source": [
        "import torch"
      ]
    },
    {
      "cell_type": "code",
      "execution_count": null,
      "id": "97078174",
      "metadata": {
        "id": "97078174",
        "outputId": "a4e0d0b7-581b-4ba3-b757-be129a105339",
        "colab": {
          "base_uri": "https://localhost:8080/"
        }
      },
      "outputs": [
        {
          "output_type": "execute_result",
          "data": {
            "text/plain": [
              "tensor([[0.0603, 0.6727, 0.7556, 0.9811],\n",
              "        [0.9981, 0.1168, 0.5711, 0.0989],\n",
              "        [0.5028, 0.9625, 0.4597, 0.2585]])"
            ]
          },
          "metadata": {},
          "execution_count": 4
        }
      ],
      "source": [
        "# Создайте следующие тензоры:\n",
        "# - Тензор размером 3x4, заполненный случайными числами от 0 до 1\n",
        "tensor1 = torch.rand(3,4)\n",
        "tensor1"
      ]
    },
    {
      "cell_type": "code",
      "execution_count": null,
      "id": "20ba32b6",
      "metadata": {
        "id": "20ba32b6",
        "outputId": "6feb6c6a-e0af-4809-a193-b57c949cb606",
        "colab": {
          "base_uri": "https://localhost:8080/"
        }
      },
      "outputs": [
        {
          "output_type": "execute_result",
          "data": {
            "text/plain": [
              "tensor([[[0., 0., 0., 0.],\n",
              "         [0., 0., 0., 0.],\n",
              "         [0., 0., 0., 0.]],\n",
              "\n",
              "        [[0., 0., 0., 0.],\n",
              "         [0., 0., 0., 0.],\n",
              "         [0., 0., 0., 0.]]])"
            ]
          },
          "metadata": {},
          "execution_count": 5
        }
      ],
      "source": [
        "# - Тензор размером 2x3x4, заполненный нулями\n",
        "tensor2 = torch.zeros((2,3,4))\n",
        "tensor2"
      ]
    },
    {
      "cell_type": "code",
      "execution_count": null,
      "id": "2b54745d",
      "metadata": {
        "id": "2b54745d",
        "outputId": "4f63eb3b-6fdc-486c-a2b1-dfa3323c5d6c",
        "colab": {
          "base_uri": "https://localhost:8080/"
        }
      },
      "outputs": [
        {
          "output_type": "execute_result",
          "data": {
            "text/plain": [
              "tensor([[1., 1., 1., 1., 1.],\n",
              "        [1., 1., 1., 1., 1.],\n",
              "        [1., 1., 1., 1., 1.],\n",
              "        [1., 1., 1., 1., 1.],\n",
              "        [1., 1., 1., 1., 1.]])"
            ]
          },
          "metadata": {},
          "execution_count": 6
        }
      ],
      "source": [
        "# - Тензор размером 5x5, заполненный единицами\n",
        "tensor3 = torch.ones((5,5))\n",
        "tensor3"
      ]
    },
    {
      "cell_type": "code",
      "execution_count": null,
      "id": "53d335f8",
      "metadata": {
        "id": "53d335f8",
        "outputId": "e77a89b5-46f2-4ea6-ec38-bf87d1f644bd",
        "colab": {
          "base_uri": "https://localhost:8080/"
        }
      },
      "outputs": [
        {
          "output_type": "execute_result",
          "data": {
            "text/plain": [
              "tensor([[ 0,  1,  2,  3],\n",
              "        [ 4,  5,  6,  7],\n",
              "        [ 8,  9, 10, 11],\n",
              "        [12, 13, 14, 15]])"
            ]
          },
          "metadata": {},
          "execution_count": 7
        }
      ],
      "source": [
        "# - Тензор размером 4x4 с числами от 0 до 15 (используйте reshape)\n",
        "tensor4 = torch.arange(16).reshape(4, 4)\n",
        "tensor4"
      ]
    },
    {
      "cell_type": "markdown",
      "id": "731f5ab1",
      "metadata": {
        "id": "731f5ab1"
      },
      "source": [
        "# 1.2 Операции с тензорами (6 баллов)"
      ]
    },
    {
      "cell_type": "code",
      "execution_count": null,
      "id": "dd05d848",
      "metadata": {
        "id": "dd05d848"
      },
      "outputs": [],
      "source": [
        "# Дано: тензор A размером 3x4 и тензор B размером 4x3\n",
        "a = torch.rand(3,4)\n",
        "b = torch.rand(4,3)"
      ]
    },
    {
      "cell_type": "code",
      "execution_count": null,
      "id": "7c59b52a",
      "metadata": {
        "id": "7c59b52a",
        "outputId": "6cf3aed5-c2bf-484f-8f4d-bf9a13009e6d",
        "colab": {
          "base_uri": "https://localhost:8080/"
        }
      },
      "outputs": [
        {
          "output_type": "execute_result",
          "data": {
            "text/plain": [
              "tensor([[0.0300, 0.7507, 0.6765],\n",
              "        [0.8243, 0.3682, 0.3869],\n",
              "        [0.4591, 0.3527, 0.8975],\n",
              "        [0.9222, 0.6280, 0.1192]])"
            ]
          },
          "metadata": {},
          "execution_count": 9
        }
      ],
      "source": [
        "# Выполните:\n",
        "# - Транспонирование тензора A\n",
        "a.T"
      ]
    },
    {
      "cell_type": "code",
      "execution_count": null,
      "id": "e13807b2",
      "metadata": {
        "id": "e13807b2",
        "outputId": "b6538a04-8b4d-43f2-97fa-d47639f39b7c",
        "colab": {
          "base_uri": "https://localhost:8080/"
        }
      },
      "outputs": [
        {
          "output_type": "execute_result",
          "data": {
            "text/plain": [
              "tensor([[1.4543, 0.6996, 1.7359],\n",
              "        [1.0897, 0.6349, 1.3197],\n",
              "        [1.3230, 0.3458, 1.2059]])"
            ]
          },
          "metadata": {},
          "execution_count": 10
        }
      ],
      "source": [
        "# - Матричное умножение A и B\n",
        "a @ b"
      ]
    },
    {
      "cell_type": "code",
      "execution_count": null,
      "id": "449f5888",
      "metadata": {
        "id": "449f5888",
        "outputId": "2fee76e4-19e1-49d6-84d4-2873cf79a534",
        "colab": {
          "base_uri": "https://localhost:8080/"
        }
      },
      "outputs": [
        {
          "output_type": "execute_result",
          "data": {
            "text/plain": [
              "tensor([[0.0069, 0.4605, 0.4512, 0.5357],\n",
              "        [0.2050, 0.0793, 0.0048, 0.3458],\n",
              "        [0.2874, 0.3856, 0.4459, 0.0870]])"
            ]
          },
          "metadata": {},
          "execution_count": 11
        }
      ],
      "source": [
        "# - Поэлементное умножение A и транспонированного B\n",
        "a * b.T"
      ]
    },
    {
      "cell_type": "code",
      "execution_count": null,
      "id": "35d1104a",
      "metadata": {
        "id": "35d1104a",
        "outputId": "ce50fb19-457c-4b1f-c4dd-57a0fa40e5b4",
        "colab": {
          "base_uri": "https://localhost:8080/"
        }
      },
      "outputs": [
        {
          "output_type": "execute_result",
          "data": {
            "text/plain": [
              "tensor(6.4152)"
            ]
          },
          "metadata": {},
          "execution_count": 12
        }
      ],
      "source": [
        "# - Вычислите сумму всех элементов тензора A\n",
        "a.sum()"
      ]
    },
    {
      "cell_type": "markdown",
      "id": "964bb859",
      "metadata": {
        "id": "964bb859"
      },
      "source": [
        "# 1.3 Индексация и срезы (6 баллов)"
      ]
    },
    {
      "cell_type": "code",
      "execution_count": null,
      "id": "228ddc39",
      "metadata": {
        "id": "228ddc39",
        "outputId": "62b4a138-d8a6-46b5-f199-eb086d8f6df6",
        "colab": {
          "base_uri": "https://localhost:8080/"
        }
      },
      "outputs": [
        {
          "output_type": "execute_result",
          "data": {
            "text/plain": [
              "tensor([[[0.8545, 0.5801, 0.2011, 0.8761, 0.1190],\n",
              "         [0.6861, 0.6458, 0.0376, 0.8708, 0.8126],\n",
              "         [0.4541, 0.3553, 0.2051, 0.6067, 0.6136],\n",
              "         [0.5420, 0.8055, 0.9934, 0.0019, 0.4882],\n",
              "         [0.5666, 0.6688, 0.0947, 0.5199, 0.0301]],\n",
              "\n",
              "        [[0.5252, 0.8803, 0.0326, 0.5650, 0.1351],\n",
              "         [0.8140, 0.6607, 0.2103, 0.8511, 0.8263],\n",
              "         [0.9790, 0.0402, 0.0666, 0.4459, 0.9108],\n",
              "         [0.8751, 0.5392, 0.5700, 0.6048, 0.9933],\n",
              "         [0.6660, 0.1736, 0.4736, 0.3615, 0.5890]],\n",
              "\n",
              "        [[0.0129, 0.0858, 0.5996, 0.0209, 0.7184],\n",
              "         [0.6941, 0.0329, 0.3695, 0.6023, 0.7235],\n",
              "         [0.0087, 0.7752, 0.5535, 0.3891, 0.7901],\n",
              "         [0.1825, 0.1272, 0.5219, 0.7960, 0.5182],\n",
              "         [0.0753, 0.6088, 0.9244, 0.0168, 0.3007]],\n",
              "\n",
              "        [[0.0525, 0.0397, 0.1657, 0.8015, 0.7749],\n",
              "         [0.9708, 0.3814, 0.1653, 0.7982, 0.7007],\n",
              "         [0.3103, 0.3488, 0.1005, 0.2809, 0.0433],\n",
              "         [0.9459, 0.1665, 0.1233, 0.0701, 0.7112],\n",
              "         [0.7157, 0.5961, 0.8847, 0.3253, 0.1823]],\n",
              "\n",
              "        [[0.6840, 0.5763, 0.7045, 0.5815, 0.4190],\n",
              "         [0.7844, 0.9798, 0.7345, 0.7650, 0.7458],\n",
              "         [0.3280, 0.1528, 0.5561, 0.4506, 0.4917],\n",
              "         [0.7637, 0.4076, 0.5093, 0.0577, 0.0175],\n",
              "         [0.9479, 0.6111, 0.5469, 0.3684, 0.6850]]])"
            ]
          },
          "metadata": {},
          "execution_count": 13
        }
      ],
      "source": [
        "# Создайте тензор размером 5x5x5\n",
        "tensor = torch.rand(5,5,5)\n",
        "tensor"
      ]
    },
    {
      "cell_type": "code",
      "execution_count": null,
      "id": "6643e228",
      "metadata": {
        "id": "6643e228",
        "outputId": "8f87337e-3818-4bdb-c18c-195d0cc00ca7",
        "colab": {
          "base_uri": "https://localhost:8080/"
        }
      },
      "outputs": [
        {
          "output_type": "execute_result",
          "data": {
            "text/plain": [
              "tensor([0.8545, 0.5801, 0.2011, 0.8761, 0.1190])"
            ]
          },
          "metadata": {},
          "execution_count": 14
        }
      ],
      "source": [
        "# Извлеките:\n",
        "# - Первую строку\n",
        "tensor[0, 0, :]"
      ]
    },
    {
      "cell_type": "code",
      "execution_count": null,
      "id": "877cc2e2",
      "metadata": {
        "id": "877cc2e2",
        "outputId": "1106682b-c7dc-4b6e-c0f0-8d1c3caf7238",
        "colab": {
          "base_uri": "https://localhost:8080/"
        }
      },
      "outputs": [
        {
          "output_type": "execute_result",
          "data": {
            "text/plain": [
              "tensor([[0.1190, 0.8126, 0.6136, 0.4882, 0.0301],\n",
              "        [0.1351, 0.8263, 0.9108, 0.9933, 0.5890],\n",
              "        [0.7184, 0.7235, 0.7901, 0.5182, 0.3007],\n",
              "        [0.7749, 0.7007, 0.0433, 0.7112, 0.1823],\n",
              "        [0.4190, 0.7458, 0.4917, 0.0175, 0.6850]])"
            ]
          },
          "metadata": {},
          "execution_count": 15
        }
      ],
      "source": [
        "# - Последний столбец\n",
        "tensor[:, :, -1]"
      ]
    },
    {
      "cell_type": "code",
      "source": [
        "# - Подматрицу размером 2x2 из центра тензора\n",
        "tensor[2:4, 2:4, 2:4]"
      ],
      "metadata": {
        "id": "WYGoq5mfFdAY",
        "colab": {
          "base_uri": "https://localhost:8080/"
        },
        "outputId": "d5115d23-1185-4277-84f6-51409cd21b36"
      },
      "id": "WYGoq5mfFdAY",
      "execution_count": null,
      "outputs": [
        {
          "output_type": "execute_result",
          "data": {
            "text/plain": [
              "tensor([[[0.5535, 0.3891],\n",
              "         [0.5219, 0.7960]],\n",
              "\n",
              "        [[0.1005, 0.2809],\n",
              "         [0.1233, 0.0701]]])"
            ]
          },
          "metadata": {},
          "execution_count": 17
        }
      ]
    },
    {
      "cell_type": "code",
      "source": [
        "# - Все элементы с четными индексами\n",
        "tensor[::2, ::2, ::2]"
      ],
      "metadata": {
        "colab": {
          "base_uri": "https://localhost:8080/"
        },
        "id": "Zx9D_9NGWB_x",
        "outputId": "6fd654be-acf4-4f46-9950-062b09065caf"
      },
      "id": "Zx9D_9NGWB_x",
      "execution_count": null,
      "outputs": [
        {
          "output_type": "execute_result",
          "data": {
            "text/plain": [
              "tensor([[[0.8545, 0.2011, 0.1190],\n",
              "         [0.4541, 0.2051, 0.6136],\n",
              "         [0.5666, 0.0947, 0.0301]],\n",
              "\n",
              "        [[0.0129, 0.5996, 0.7184],\n",
              "         [0.0087, 0.5535, 0.7901],\n",
              "         [0.0753, 0.9244, 0.3007]],\n",
              "\n",
              "        [[0.6840, 0.7045, 0.4190],\n",
              "         [0.3280, 0.5561, 0.4917],\n",
              "         [0.9479, 0.5469, 0.6850]]])"
            ]
          },
          "metadata": {},
          "execution_count": 19
        }
      ]
    },
    {
      "cell_type": "markdown",
      "source": [
        "# 1.4 Работа с формами (6 баллов)"
      ],
      "metadata": {
        "id": "Og9Hp_NAWwrX"
      },
      "id": "Og9Hp_NAWwrX"
    },
    {
      "cell_type": "code",
      "source": [
        "# Создайте тензор размером 24 элемента\n",
        "tensor1_4 = torch.rand(24)\n",
        "tensor1_4"
      ],
      "metadata": {
        "colab": {
          "base_uri": "https://localhost:8080/"
        },
        "id": "kQ3wcg_1W1rp",
        "outputId": "5eb160a0-2d8b-41d7-aa00-614205efb286"
      },
      "id": "kQ3wcg_1W1rp",
      "execution_count": null,
      "outputs": [
        {
          "output_type": "execute_result",
          "data": {
            "text/plain": [
              "tensor([0.2149, 0.5922, 0.3224, 0.2979, 0.8415, 0.9189, 0.6091, 0.7184, 0.5326,\n",
              "        0.1561, 0.0269, 0.9625, 0.1213, 0.0290, 0.1337, 0.6695, 0.2124, 0.5930,\n",
              "        0.9885, 0.1040, 0.8561, 0.6550, 0.8175, 0.5196])"
            ]
          },
          "metadata": {},
          "execution_count": 20
        }
      ]
    },
    {
      "cell_type": "code",
      "source": [
        "# Преобразуйте его в формы:\n",
        "# - 2x12\n",
        "tensor1_4.view(2, 12)"
      ],
      "metadata": {
        "colab": {
          "base_uri": "https://localhost:8080/"
        },
        "id": "9FwXfX8eXvQi",
        "outputId": "8457ec84-6b2b-412a-872c-00f7d34a8526"
      },
      "id": "9FwXfX8eXvQi",
      "execution_count": null,
      "outputs": [
        {
          "output_type": "execute_result",
          "data": {
            "text/plain": [
              "tensor([[0.2149, 0.5922, 0.3224, 0.2979, 0.8415, 0.9189, 0.6091, 0.7184, 0.5326,\n",
              "         0.1561, 0.0269, 0.9625],\n",
              "        [0.1213, 0.0290, 0.1337, 0.6695, 0.2124, 0.5930, 0.9885, 0.1040, 0.8561,\n",
              "         0.6550, 0.8175, 0.5196]])"
            ]
          },
          "metadata": {},
          "execution_count": 21
        }
      ]
    },
    {
      "cell_type": "code",
      "source": [
        "# - 3x8\n",
        "tensor1_4.view(3, 8)"
      ],
      "metadata": {
        "id": "Wp3IxfJzX3pD"
      },
      "id": "Wp3IxfJzX3pD",
      "execution_count": null,
      "outputs": []
    },
    {
      "cell_type": "code",
      "source": [
        "\n",
        "# - 4x6\n",
        "tensor1_4.view(4, 6)"
      ],
      "metadata": {
        "colab": {
          "base_uri": "https://localhost:8080/"
        },
        "id": "7CNw_cCjX_cT",
        "outputId": "f3dec098-f914-49e0-893d-2fc11a6541d2"
      },
      "id": "7CNw_cCjX_cT",
      "execution_count": null,
      "outputs": [
        {
          "output_type": "execute_result",
          "data": {
            "text/plain": [
              "tensor([[0.2149, 0.5922, 0.3224, 0.2979, 0.8415, 0.9189],\n",
              "        [0.6091, 0.7184, 0.5326, 0.1561, 0.0269, 0.9625],\n",
              "        [0.1213, 0.0290, 0.1337, 0.6695, 0.2124, 0.5930],\n",
              "        [0.9885, 0.1040, 0.8561, 0.6550, 0.8175, 0.5196]])"
            ]
          },
          "metadata": {},
          "execution_count": 22
        }
      ]
    },
    {
      "cell_type": "code",
      "source": [
        "# - 2x3x4\n",
        "tensor1_4.view(2, 3, 4)"
      ],
      "metadata": {
        "colab": {
          "base_uri": "https://localhost:8080/"
        },
        "id": "tSpn_p-AYEPq",
        "outputId": "c125c4db-559f-4923-8210-c2f1024276d5"
      },
      "id": "tSpn_p-AYEPq",
      "execution_count": null,
      "outputs": [
        {
          "output_type": "execute_result",
          "data": {
            "text/plain": [
              "tensor([[[0.2149, 0.5922, 0.3224, 0.2979],\n",
              "         [0.8415, 0.9189, 0.6091, 0.7184],\n",
              "         [0.5326, 0.1561, 0.0269, 0.9625]],\n",
              "\n",
              "        [[0.1213, 0.0290, 0.1337, 0.6695],\n",
              "         [0.2124, 0.5930, 0.9885, 0.1040],\n",
              "         [0.8561, 0.6550, 0.8175, 0.5196]]])"
            ]
          },
          "metadata": {},
          "execution_count": 23
        }
      ]
    },
    {
      "cell_type": "code",
      "source": [
        "# - 2x2x2x3\n",
        "tensor1_4.view(2, 2, 2, 3)"
      ],
      "metadata": {
        "colab": {
          "base_uri": "https://localhost:8080/"
        },
        "id": "pRBaYjb_YJ7H",
        "outputId": "86b73a9e-c2cb-473e-d275-cc1ecb4eed49"
      },
      "id": "pRBaYjb_YJ7H",
      "execution_count": null,
      "outputs": [
        {
          "output_type": "execute_result",
          "data": {
            "text/plain": [
              "tensor([[[[0.2149, 0.5922, 0.3224],\n",
              "          [0.2979, 0.8415, 0.9189]],\n",
              "\n",
              "         [[0.6091, 0.7184, 0.5326],\n",
              "          [0.1561, 0.0269, 0.9625]]],\n",
              "\n",
              "\n",
              "        [[[0.1213, 0.0290, 0.1337],\n",
              "          [0.6695, 0.2124, 0.5930]],\n",
              "\n",
              "         [[0.9885, 0.1040, 0.8561],\n",
              "          [0.6550, 0.8175, 0.5196]]]])"
            ]
          },
          "metadata": {},
          "execution_count": 24
        }
      ]
    },
    {
      "cell_type": "markdown",
      "source": [
        "# Задание 2: Автоматическое дифференцирование (25 баллов)"
      ],
      "metadata": {
        "id": "vd94YbahYS7U"
      },
      "id": "vd94YbahYS7U"
    },
    {
      "cell_type": "markdown",
      "source": [
        "**2.1 Простые вычисления с градиентами (8 баллов)**"
      ],
      "metadata": {
        "id": "sFrp3xiOY-c_"
      },
      "id": "sFrp3xiOY-c_"
    },
    {
      "cell_type": "code",
      "source": [
        "# Создайте тензоры x, y, z с requires_grad=True\n",
        "x = torch.tensor(1.0, requires_grad=True)\n",
        "y = torch.tensor(2.0, requires_grad=True)\n",
        "z = torch.tensor(3.0, requires_grad=True)"
      ],
      "metadata": {
        "id": "XMvQCTgcYUGU"
      },
      "id": "XMvQCTgcYUGU",
      "execution_count": null,
      "outputs": []
    },
    {
      "cell_type": "code",
      "source": [
        "# Вычислите функцию: f(x,y,z) = x^2 + y^2 + z^2 + 2*x*y*z\n",
        "f = x**2 + y**2 + z**2 + 2*x*y*z\n",
        "f.backward()"
      ],
      "metadata": {
        "id": "fspn9r-SYdBn"
      },
      "id": "fspn9r-SYdBn",
      "execution_count": null,
      "outputs": []
    },
    {
      "cell_type": "code",
      "source": [
        "# Найдите градиенты по всем переменным\n",
        "print(f\"df/dx={x.grad.item()}, df/dy={y.grad.item()}, df/dz={z.grad.item()}\")"
      ],
      "metadata": {
        "colab": {
          "base_uri": "https://localhost:8080/"
        },
        "id": "yfC1513CYfgI",
        "outputId": "d24ee4b1-2b78-4234-c014-e315d88343bd"
      },
      "id": "yfC1513CYfgI",
      "execution_count": null,
      "outputs": [
        {
          "output_type": "stream",
          "name": "stdout",
          "text": [
            "df/dx=14.0, df/dy=10.0, df/dz=10.0\n"
          ]
        }
      ]
    },
    {
      "cell_type": "code",
      "source": [
        "# Проверьте результат аналитически\n",
        "# df/dx = 2x + 2yz = 14, df/dy=2y+2xz = 10, df/dz=2z+2xy = 10"
      ],
      "metadata": {
        "id": "-V2OkcNnYmvI"
      },
      "id": "-V2OkcNnYmvI",
      "execution_count": null,
      "outputs": []
    },
    {
      "cell_type": "markdown",
      "source": [
        "**2.2 Градиент функции потерь (9 баллов)**"
      ],
      "metadata": {
        "id": "rIprtXV3ZJKM"
      },
      "id": "rIprtXV3ZJKM"
    },
    {
      "cell_type": "code",
      "source": [
        "# Реализуйте функцию MSE (Mean Squared Error):\n",
        "# MSE = (1/n) * Σ(y_pred - y_true)^2\n",
        "def mse(y_pred, y_true):\n",
        "    return torch.mean((y_pred - y_true) ** 2)\n",
        "\n",
        "x_data = torch.randn(10, requires_grad=False)\n",
        "x_data"
      ],
      "metadata": {
        "colab": {
          "base_uri": "https://localhost:8080/"
        },
        "id": "3xoyUlpPZTZm",
        "outputId": "96c00acc-111a-45b5-89ce-cab14c341868"
      },
      "id": "3xoyUlpPZTZm",
      "execution_count": 31,
      "outputs": [
        {
          "output_type": "execute_result",
          "data": {
            "text/plain": [
              "tensor([ 0.2337,  2.7257, -0.8477, -2.0133,  0.3288,  0.5381, -0.6941,  0.9533,\n",
              "         0.0850, -0.8341])"
            ]
          },
          "metadata": {},
          "execution_count": 31
        }
      ]
    },
    {
      "cell_type": "code",
      "source": [
        "y_true = 3 + 3*x_data + torch.randn(10) * 0.1\n",
        "y_true"
      ],
      "metadata": {
        "colab": {
          "base_uri": "https://localhost:8080/"
        },
        "id": "tk6vkFDAZfKI",
        "outputId": "4faac0ab-e7b1-4600-956f-87e154c90d29"
      },
      "id": "tk6vkFDAZfKI",
      "execution_count": 34,
      "outputs": [
        {
          "output_type": "execute_result",
          "data": {
            "text/plain": [
              "tensor([ 3.6853, 11.3580,  0.6047, -3.0414,  3.9919,  4.5407,  0.7613,  5.7988,\n",
              "         3.3473,  0.5177])"
            ]
          },
          "metadata": {},
          "execution_count": 34
        }
      ]
    },
    {
      "cell_type": "code",
      "source": [
        "w = torch.tensor(0.0, requires_grad=True)\n",
        "b = torch.tensor(0.0, requires_grad=True)\n",
        "\n",
        "# где y_pred = w * x + b (линейная функция)\n",
        "y_pred = w * x_data + b\n",
        "loss = mse(y_pred, y_true)\n",
        "loss.backward()"
      ],
      "metadata": {
        "id": "ER_19Z0dZwWJ"
      },
      "id": "ER_19Z0dZwWJ",
      "execution_count": 35,
      "outputs": []
    },
    {
      "cell_type": "code",
      "source": [
        "# Найдите градиенты по w и b\n",
        "print(f\"dMSE/dw={w.grad.item()}, dMSE/db={b.grad.item()}\")"
      ],
      "metadata": {
        "colab": {
          "base_uri": "https://localhost:8080/"
        },
        "id": "CSCyM-_8aC6C",
        "outputId": "3c291577-ec51-4307-c218-052c9ca04b61"
      },
      "id": "CSCyM-_8aC6C",
      "execution_count": 36,
      "outputs": [
        {
          "output_type": "stream",
          "name": "stdout",
          "text": [
            "dMSE/dw=-9.207743644714355, dMSE/db=-6.312876224517822\n"
          ]
        }
      ]
    },
    {
      "cell_type": "markdown",
      "source": [
        "**2.3 Цепное правило (8 баллов)**"
      ],
      "metadata": {
        "id": "taplWbGwaJg0"
      },
      "id": "taplWbGwaJg0"
    },
    {
      "cell_type": "code",
      "source": [
        "# Реализуйте составную функцию: f(x) = sin(x^2 + 1)\n",
        "x_var = torch.tensor(1.0, requires_grad=True)\n",
        "f = torch.sin(x_var ** 2 + 1)\n",
        "f.backward()"
      ],
      "metadata": {
        "id": "gs36l2a2aOqT"
      },
      "id": "gs36l2a2aOqT",
      "execution_count": 37,
      "outputs": []
    },
    {
      "cell_type": "code",
      "source": [
        "# Найдите градиент df/dx\n",
        "print(\"Градиент;\", x_var.grad.item())"
      ],
      "metadata": {
        "colab": {
          "base_uri": "https://localhost:8080/"
        },
        "id": "2ZoRyp5KaTVi",
        "outputId": "50fa1fa0-b847-4947-e9cf-08dca671ea8b"
      },
      "id": "2ZoRyp5KaTVi",
      "execution_count": 38,
      "outputs": [
        {
          "output_type": "stream",
          "name": "stdout",
          "text": [
            "Градиент; -0.832293689250946\n"
          ]
        }
      ]
    },
    {
      "cell_type": "code",
      "source": [
        "# Проверьте результат с помощью torch.autograd.grad\n",
        "grad = torch.autograd.grad(torch.sin(x_var ** 2 + 1), x_var)[0]\n",
        "print(\"Проверка:\", grad.item())"
      ],
      "metadata": {
        "colab": {
          "base_uri": "https://localhost:8080/"
        },
        "id": "OiSf5dJeaY7C",
        "outputId": "076f8472-2793-419f-f3c6-001b788f3d88"
      },
      "id": "OiSf5dJeaY7C",
      "execution_count": 39,
      "outputs": [
        {
          "output_type": "stream",
          "name": "stdout",
          "text": [
            "Проверка: -0.832293689250946\n"
          ]
        }
      ]
    },
    {
      "cell_type": "markdown",
      "source": [
        "# Задание 3: Сравнение производительности CPU vs CUDA (20 баллов)"
      ],
      "metadata": {
        "id": "ZOYwnqFgalpa"
      },
      "id": "ZOYwnqFgalpa"
    },
    {
      "cell_type": "markdown",
      "source": [
        "**3.1 Подготовка данных (5 баллов)**"
      ],
      "metadata": {
        "id": "RFw5ifk1a2oV"
      },
      "id": "RFw5ifk1a2oV"
    },
    {
      "cell_type": "code",
      "source": [
        "import time\n",
        "import torch\n",
        "device_cpu = torch.device(\"cpu\")\n",
        "device_gpu = torch.device(\"cuda\" if torch.cuda.is_available() else \"cpu\")"
      ],
      "metadata": {
        "id": "0y-lSQaua6yd"
      },
      "id": "0y-lSQaua6yd",
      "execution_count": 1,
      "outputs": []
    },
    {
      "cell_type": "code",
      "source": [
        "# Создайте большие матрицы размеров:\n",
        "# - 64 x 1024 x 1024\n",
        "# - 128 x 512 x 512\n",
        "# - 256 x 256 x 256\n",
        "# Заполните их случайными числами\n",
        "sizes = [(64, 1024, 1024), (128, 512, 512), (256, 256, 256)]\n",
        "tensors = [torch.randn(*size) for size in sizes]"
      ],
      "metadata": {
        "id": "rujni2YddQHP"
      },
      "id": "rujni2YddQHP",
      "execution_count": 2,
      "outputs": []
    },
    {
      "cell_type": "markdown",
      "source": [
        "**3.2 Функция измерения времени (5 баллов)**"
      ],
      "metadata": {
        "id": "1iY8uGW2dYnV"
      },
      "id": "1iY8uGW2dYnV"
    },
    {
      "cell_type": "code",
      "source": [
        "# Создайте функцию для измерения времени выполнения операций\n",
        "def compute_time(op, x_cpu, x_gpu):\n",
        "    # CPU\n",
        "    # Используйте time.time() для измерения на CPU\n",
        "    start_cpu = time.time()\n",
        "    op(x_cpu)\n",
        "    cpu_time = (time.time() - start_cpu) * 1000  # в мс\n",
        "\n",
        "    # GPU\n",
        "    # Используйте torch.cuda.Event() для точного измерения на GPU\n",
        "    if torch.cuda.is_available():\n",
        "        start_event = torch.cuda.Event(enable_timing=True)\n",
        "        end_event = torch.cuda.Event(enable_timing=True)\n",
        "\n",
        "        start_event.record()\n",
        "        op(x_gpu)\n",
        "        end_event.record()\n",
        "        torch.cuda.synchronize()\n",
        "        gpu_time = start_event.elapsed_time(end_event)  # в мс\n",
        "    else:\n",
        "        gpu_time = None\n",
        "\n",
        "    return cpu_time, gpu_time"
      ],
      "metadata": {
        "id": "JxpFYhxJbVj2"
      },
      "id": "JxpFYhxJbVj2",
      "execution_count": 10,
      "outputs": []
    },
    {
      "cell_type": "markdown",
      "source": [
        "**3.3 Сравнение операций (10 баллов)**"
      ],
      "metadata": {
        "id": "YLQjYVcud4C0"
      },
      "id": "YLQjYVcud4C0"
    },
    {
      "cell_type": "code",
      "source": [
        "# Переносим на GPU\n",
        "tensors_gpu = [x.cuda() for x in tensors]\n",
        "\n",
        "results = []\n",
        "\n",
        "# Для каждой матрицы выполним все операции\n",
        "for i, (x_cpu, x_gpu) in enumerate(zip(tensors, tensors_gpu)):\n",
        "    print(f\"\\nМатрица #{i+1} размер {x_cpu.shape}\")\n",
        "\n",
        "    # - Матричное умножение (torch.matmul)\n",
        "    cpu_time, gpu_time = compute_time(lambda x: torch.matmul(x, x.transpose(-1, -2)), x_cpu, x_gpu)\n",
        "    results.append((f\"Мат. умножение [{i+1}]\", cpu_time, gpu_time, cpu_time / gpu_time))\n",
        "\n",
        "    # - Поэлементное сложение\n",
        "    cpu_time, gpu_time = compute_time(lambda x: x + x, x_cpu, x_gpu)\n",
        "    results.append((f\"Поэлементное сложение [{i+1}]\", cpu_time, gpu_time, cpu_time / gpu_time))\n",
        "\n",
        "    # - Поэлементное умножение\n",
        "    cpu_time, gpu_time = compute_time(lambda x: x * x, x_cpu, x_gpu)\n",
        "    results.append((f\"Поэлементное умножение [{i+1}]\", cpu_time, gpu_time, cpu_time / gpu_time))\n",
        "\n",
        "    # - Транспонирование\n",
        "    cpu_time, gpu_time = compute_time(lambda x: x.transpose(-1, -2), x_cpu, x_gpu)\n",
        "    results.append((f\"Транспонирование [{i+1}]\", cpu_time, gpu_time, cpu_time / gpu_time))\n",
        "\n",
        "    # - Вычисление суммы всех элементов\n",
        "    cpu_time, gpu_time = compute_time(lambda x: x.sum(), x_cpu, x_gpu)\n",
        "    results.append((f\"Сумма элементов [{i+1}]\", cpu_time, gpu_time, cpu_time / gpu_time))\n",
        "\n",
        "print(f\"\\n{'Операция':<35} {'CPU время (мс)':<15} {'GPU время (мс)':<15} {'Ускорение':<10}\")\n",
        "print(\"-\" * 80)\n",
        "for name, cpu, gpu, speedup in results:\n",
        "    print(f\"{name:<35} {cpu:<15.3f} {gpu:<15.3f} {speedup:<10.2f}\")"
      ],
      "metadata": {
        "colab": {
          "base_uri": "https://localhost:8080/"
        },
        "id": "XFpU9FoEfcdN",
        "outputId": "f731e4d6-1b78-4bc8-ac50-aa35b245aee0"
      },
      "id": "XFpU9FoEfcdN",
      "execution_count": 9,
      "outputs": [
        {
          "output_type": "stream",
          "name": "stdout",
          "text": [
            "\n",
            "Матрица #1 размер torch.Size([64, 1024, 1024])\n",
            "\n",
            "Матрица #2 размер torch.Size([128, 512, 512])\n",
            "\n",
            "Матрица #3 размер torch.Size([256, 256, 256])\n",
            "\n",
            "Операция                            CPU время (мс)  GPU время (мс)  Ускорение \n",
            "--------------------------------------------------------------------------------\n",
            "Мат. умножение [1]                  1193.489        51.067          23.37     \n",
            "Поэлементное сложение [1]           143.125         2.282           62.71     \n",
            "Поэлементное умножение [1]          139.365         2.289           60.89     \n",
            "Транспонирование [1]                0.031           0.018           1.71      \n",
            "Сумма элементов [1]                 21.926          1.110           19.75     \n",
            "Мат. умножение [2]                  345.499         13.166          26.24     \n",
            "Поэлементное сложение [2]           72.755          1.188           61.24     \n",
            "Поэлементное умножение [2]          75.187          1.181           63.68     \n",
            "Транспонирование [2]                0.029           0.016           1.79      \n",
            "Сумма элементов [2]                 11.239          0.617           18.21     \n",
            "Мат. умножение [3]                  120.351         3.611           33.33     \n",
            "Поэлементное сложение [3]           35.469          0.621           57.12     \n",
            "Поэлементное умножение [3]          33.452          0.617           54.22     \n",
            "Транспонирование [3]                0.039           0.018           2.10      \n",
            "Сумма элементов [3]                 5.313           0.343           15.50     \n"
          ]
        }
      ]
    },
    {
      "cell_type": "markdown",
      "source": [
        "**3.4 Анализ результатов (5 баллов)**\n"
      ],
      "metadata": {
        "id": "S8BtWqo-gvXt"
      },
      "id": "S8BtWqo-gvXt"
    },
    {
      "cell_type": "markdown",
      "source": [
        "**Какие операции получают наибольшее ускорение на GPU?**\n",
        "Поэлементное сложение, умножение и матричное умножение (ускорение до ~80x).\n",
        "\n",
        "GPU особенно эффективен для больших массивов и массовых операций."
      ],
      "metadata": {
        "id": "c_XvNwePiLbB"
      },
      "id": "c_XvNwePiLbB"
    },
    {
      "cell_type": "markdown",
      "source": [
        "**Почему некоторые операции могут быть медленнее на GPU?**\n",
        "Транспонирование и сумма — очень лёгкие операции. Накладные расходы CUDA больше, чем время самой операции.\n",
        "\n",
        "На малых или простых задачах GPU почти не даёт выигрыша."
      ],
      "metadata": {
        "id": "m5joEMGXiMrg"
      },
      "id": "m5joEMGXiMrg"
    },
    {
      "cell_type": "markdown",
      "source": [
        "**Как размер матриц влияет на ускорение?**\n",
        "Чем больше размер, тем больше ускорение: крупные данные лучше загружают GPU.\n",
        "\n",
        "Для максимальной выгоды GPU нужно использовать для больших массивов."
      ],
      "metadata": {
        "id": "5yWJcKfEiXXz"
      },
      "id": "5yWJcKfEiXXz"
    },
    {
      "cell_type": "markdown",
      "source": [
        "**Что происходит при передаче данных между CPU и GPU?**\n",
        "Передача данных даёт значительные задержки и может ухудшить ускорение.\n",
        "\n",
        "Данные надо загружать на GPU заранее и считать всё там."
      ],
      "metadata": {
        "id": "--mrTvCPimH-"
      },
      "id": "--mrTvCPimH-"
    }
  ],
  "metadata": {
    "kernelspec": {
      "display_name": "Python 3",
      "name": "python3"
    },
    "language_info": {
      "codemirror_mode": {
        "name": "ipython",
        "version": 3
      },
      "file_extension": ".py",
      "mimetype": "text/x-python",
      "name": "python",
      "nbconvert_exporter": "python",
      "pygments_lexer": "ipython3",
      "version": "3.13.3"
    },
    "colab": {
      "provenance": [],
      "gpuType": "T4"
    },
    "accelerator": "GPU"
  },
  "nbformat": 4,
  "nbformat_minor": 5
}