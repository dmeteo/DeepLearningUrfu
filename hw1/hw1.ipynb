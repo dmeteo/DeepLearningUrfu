{
 "cells": [
  {
   "cell_type": "markdown",
   "id": "08ebb40a",
   "metadata": {},
   "source": [
    "# Домашнее задание к уроку 1: Основы PyTorch"
   ]
  },
  {
   "cell_type": "markdown",
   "id": "d1bcc939",
   "metadata": {},
   "source": [
    "# Задание 1: Создание и манипуляции с тензорами (25 баллов)"
   ]
  },
  {
   "cell_type": "code",
   "execution_count": 2,
   "id": "27a26c71",
   "metadata": {},
   "outputs": [],
   "source": [
    "import torch"
   ]
  },
  {
   "cell_type": "code",
   "execution_count": 32,
   "id": "97078174",
   "metadata": {},
   "outputs": [
    {
     "data": {
      "text/plain": [
       "tensor([[0.8885, 0.5598, 0.1274, 0.6984],\n",
       "        [0.4053, 0.1612, 0.5739, 0.9191],\n",
       "        [0.8390, 0.5475, 0.5889, 0.2176]])"
      ]
     },
     "execution_count": 32,
     "metadata": {},
     "output_type": "execute_result"
    }
   ],
   "source": [
    "# Создайте следующие тензоры:\n",
    "# - Тензор размером 3x4, заполненный случайными числами от 0 до 1\n",
    "tensor1 = torch.rand(3,4)\n",
    "tensor1"
   ]
  },
  {
   "cell_type": "code",
   "execution_count": 33,
   "id": "20ba32b6",
   "metadata": {},
   "outputs": [
    {
     "data": {
      "text/plain": [
       "tensor([[[0., 0., 0., 0.],\n",
       "         [0., 0., 0., 0.],\n",
       "         [0., 0., 0., 0.]],\n",
       "\n",
       "        [[0., 0., 0., 0.],\n",
       "         [0., 0., 0., 0.],\n",
       "         [0., 0., 0., 0.]]])"
      ]
     },
     "execution_count": 33,
     "metadata": {},
     "output_type": "execute_result"
    }
   ],
   "source": [
    "# - Тензор размером 2x3x4, заполненный нулями\n",
    "tensor2 = torch.zeros((2,3,4))\n",
    "tensor2"
   ]
  },
  {
   "cell_type": "code",
   "execution_count": 35,
   "id": "2b54745d",
   "metadata": {},
   "outputs": [
    {
     "data": {
      "text/plain": [
       "tensor([[1., 1., 1., 1., 1.],\n",
       "        [1., 1., 1., 1., 1.],\n",
       "        [1., 1., 1., 1., 1.],\n",
       "        [1., 1., 1., 1., 1.],\n",
       "        [1., 1., 1., 1., 1.]])"
      ]
     },
     "execution_count": 35,
     "metadata": {},
     "output_type": "execute_result"
    }
   ],
   "source": [
    "# - Тензор размером 5x5, заполненный единицами\n",
    "tensor3 = torch.ones((5,5))\n",
    "tensor3"
   ]
  },
  {
   "cell_type": "code",
   "execution_count": 36,
   "id": "53d335f8",
   "metadata": {},
   "outputs": [
    {
     "data": {
      "text/plain": [
       "tensor([[ 0,  1,  2,  3],\n",
       "        [ 4,  5,  6,  7],\n",
       "        [ 8,  9, 10, 11],\n",
       "        [12, 13, 14, 15]])"
      ]
     },
     "execution_count": 36,
     "metadata": {},
     "output_type": "execute_result"
    }
   ],
   "source": [
    "# - Тензор размером 4x4 с числами от 0 до 15 (используйте reshape)\n",
    "tensor4 = torch.arange(16).reshape(4, 4)\n",
    "tensor4"
   ]
  },
  {
   "cell_type": "markdown",
   "id": "731f5ab1",
   "metadata": {},
   "source": [
    "# 1.2 Операции с тензорами (6 баллов)"
   ]
  },
  {
   "cell_type": "code",
   "execution_count": null,
   "id": "dd05d848",
   "metadata": {},
   "outputs": [],
   "source": [
    "# Дано: тензор A размером 3x4 и тензор B размером 4x3\n",
    "a = torch.rand(3,4)\n",
    "b = torch.rand(4,3)"
   ]
  },
  {
   "cell_type": "code",
   "execution_count": 46,
   "id": "7c59b52a",
   "metadata": {},
   "outputs": [
    {
     "data": {
      "text/plain": [
       "tensor([[0.0589, 0.2158, 0.7554],\n",
       "        [0.3367, 0.7240, 0.4645],\n",
       "        [0.3187, 0.4359, 0.4332],\n",
       "        [0.2300, 0.6927, 0.9136]])"
      ]
     },
     "execution_count": 46,
     "metadata": {},
     "output_type": "execute_result"
    }
   ],
   "source": [
    "# Выполните:\n",
    "# - Транспонирование тензора A\n",
    "a.T"
   ]
  },
  {
   "cell_type": "code",
   "execution_count": 47,
   "id": "e13807b2",
   "metadata": {},
   "outputs": [
    {
     "data": {
      "text/plain": [
       "tensor([[0.5589, 0.4451, 0.5552],\n",
       "        [1.2931, 1.0284, 1.1145],\n",
       "        [1.8321, 1.3797, 1.3796]])"
      ]
     },
     "execution_count": 47,
     "metadata": {},
     "output_type": "execute_result"
    }
   ],
   "source": [
    "# - Матричное умножение A и B\n",
    "a @ b"
   ]
  },
  {
   "cell_type": "code",
   "execution_count": 49,
   "id": "449f5888",
   "metadata": {},
   "outputs": [
    {
     "data": {
      "text/plain": [
       "tensor([[0.0428, 0.0838, 0.2104, 0.2219],\n",
       "        [0.1361, 0.3208, 0.1730, 0.3985],\n",
       "        [0.4494, 0.2405, 0.3557, 0.3341]])"
      ]
     },
     "execution_count": 49,
     "metadata": {},
     "output_type": "execute_result"
    }
   ],
   "source": [
    "# - Поэлементное умножение A и транспонированного B\n",
    "a * b.T"
   ]
  },
  {
   "cell_type": "code",
   "execution_count": 50,
   "id": "35d1104a",
   "metadata": {},
   "outputs": [
    {
     "data": {
      "text/plain": [
       "tensor(5.5794)"
      ]
     },
     "execution_count": 50,
     "metadata": {},
     "output_type": "execute_result"
    }
   ],
   "source": [
    "# - Вычислите сумму всех элементов тензора A\n",
    "a.sum()"
   ]
  },
  {
   "cell_type": "markdown",
   "id": "964bb859",
   "metadata": {},
   "source": [
    "# 1.3 Индексация и срезы (6 баллов)"
   ]
  },
  {
   "cell_type": "code",
   "execution_count": 69,
   "id": "228ddc39",
   "metadata": {},
   "outputs": [
    {
     "data": {
      "text/plain": [
       "tensor([[[0.6576, 0.4046, 0.9137, 0.4757, 0.2412],\n",
       "         [0.6289, 0.6264, 0.9892, 0.2655, 0.4826],\n",
       "         [0.0853, 0.1963, 0.4745, 0.7093, 0.0086],\n",
       "         [0.9664, 0.3230, 0.3542, 0.7225, 0.5433],\n",
       "         [0.8065, 0.4410, 0.6551, 0.1614, 0.8334]],\n",
       "\n",
       "        [[0.7354, 0.9364, 0.2039, 0.1353, 0.5935],\n",
       "         [0.3625, 0.1174, 0.4672, 0.4447, 0.5871],\n",
       "         [0.3647, 0.3909, 0.8328, 0.6034, 0.3470],\n",
       "         [0.0545, 0.9567, 0.1506, 0.7007, 0.4806],\n",
       "         [0.0060, 0.8387, 0.9125, 0.0851, 0.2819]],\n",
       "\n",
       "        [[0.4771, 0.7416, 0.3028, 0.5266, 0.6874],\n",
       "         [0.3634, 0.6198, 0.3185, 0.3624, 0.0723],\n",
       "         [0.6787, 0.5110, 0.4343, 0.0182, 0.1209],\n",
       "         [0.1437, 0.0931, 0.7490, 0.5429, 0.8072],\n",
       "         [0.6447, 0.5566, 0.8224, 0.2788, 0.7021]],\n",
       "\n",
       "        [[0.3059, 0.0764, 0.2327, 0.3448, 0.7248],\n",
       "         [0.5960, 0.9729, 0.6472, 0.9384, 0.3966],\n",
       "         [0.3313, 0.7814, 0.9063, 0.6307, 0.0010],\n",
       "         [0.8149, 0.5870, 0.1070, 0.3753, 0.9714],\n",
       "         [0.5692, 0.3041, 0.5879, 0.2127, 0.7309]],\n",
       "\n",
       "        [[0.2804, 0.4688, 0.6420, 0.7570, 0.2057],\n",
       "         [0.0033, 0.3417, 0.6123, 0.8270, 0.3550],\n",
       "         [0.9832, 0.4047, 0.8652, 0.6058, 0.4285],\n",
       "         [0.1847, 0.9482, 0.1148, 0.2416, 0.5935],\n",
       "         [0.2003, 0.1531, 0.5485, 0.4430, 0.5486]]])"
      ]
     },
     "execution_count": 69,
     "metadata": {},
     "output_type": "execute_result"
    }
   ],
   "source": [
    "# Создайте тензор размером 5x5x5\n",
    "tensor = torch.rand(5,5,5)\n",
    "tensor\n",
    "# - Подматрицу размером 2x2 из центра тензора\n",
    "# - Все элементы с четными индексами"
   ]
  },
  {
   "cell_type": "code",
   "execution_count": 70,
   "id": "6643e228",
   "metadata": {},
   "outputs": [
    {
     "data": {
      "text/plain": [
       "tensor([0.6576, 0.4046, 0.9137, 0.4757, 0.2412])"
      ]
     },
     "execution_count": 70,
     "metadata": {},
     "output_type": "execute_result"
    }
   ],
   "source": [
    "# Извлеките:\n",
    "# - Первую строку\n",
    "tensor[0, 0, :]"
   ]
  },
  {
   "cell_type": "code",
   "execution_count": 71,
   "id": "877cc2e2",
   "metadata": {},
   "outputs": [
    {
     "data": {
      "text/plain": [
       "tensor([[0.2412, 0.4826, 0.0086, 0.5433, 0.8334],\n",
       "        [0.5935, 0.5871, 0.3470, 0.4806, 0.2819],\n",
       "        [0.6874, 0.0723, 0.1209, 0.8072, 0.7021],\n",
       "        [0.7248, 0.3966, 0.0010, 0.9714, 0.7309],\n",
       "        [0.2057, 0.3550, 0.4285, 0.5935, 0.5486]])"
      ]
     },
     "execution_count": 71,
     "metadata": {},
     "output_type": "execute_result"
    }
   ],
   "source": [
    "# - Последний столбец\n",
    "tensor[:, :, -1]"
   ]
  }
 ],
 "metadata": {
  "kernelspec": {
   "display_name": "venv",
   "language": "python",
   "name": "python3"
  },
  "language_info": {
   "codemirror_mode": {
    "name": "ipython",
    "version": 3
   },
   "file_extension": ".py",
   "mimetype": "text/x-python",
   "name": "python",
   "nbconvert_exporter": "python",
   "pygments_lexer": "ipython3",
   "version": "3.13.3"
  }
 },
 "nbformat": 4,
 "nbformat_minor": 5
}
